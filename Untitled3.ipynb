{
  "nbformat": 4,
  "nbformat_minor": 0,
  "metadata": {
    "colab": {
      "name": "Untitled3.ipynb",
      "provenance": [],
      "authorship_tag": "ABX9TyObhyQxR8MH+QkPB6WVrFaA",
      "include_colab_link": true
    },
    "kernelspec": {
      "name": "python3",
      "display_name": "Python 3"
    },
    "language_info": {
      "name": "python"
    }
  },
  "cells": [
    {
      "cell_type": "markdown",
      "metadata": {
        "id": "view-in-github",
        "colab_type": "text"
      },
      "source": [
        "<a href=\"https://colab.research.google.com/github/Gilbert228/nucamp/blob/master/Untitled3.ipynb\" target=\"_parent\"><img src=\"https://colab.research.google.com/assets/colab-badge.svg\" alt=\"Open In Colab\"/></a>"
      ]
    },
    {
      "cell_type": "code",
      "execution_count": null,
      "metadata": {
        "colab": {
          "base_uri": "https://localhost:8080/"
        },
        "id": "7XA3nTiMwGsC",
        "outputId": "400eff32-96d6-4826-e092-f5ff2333363b"
      },
      "outputs": [
        {
          "output_type": "stream",
          "name": "stdout",
          "text": [
            "TECH I.S.\n",
            "TECH I.S.\n",
            "This is a long string and supports\n",
            "              multiline statements as well\n",
            "          \n",
            "Hello, TECH I.S. Student\n"
          ]
        }
      ],
      "source": [
        "name_one='TECH I.S.'\n",
        "print(name_one)\n",
        "name_two='TECH I.S.'\n",
        "print(name_two)\n",
        "name_three='''This is a long string and supports\n",
        "              multiline statements as well\n",
        "          '''\n",
        "print(name_three)\n",
        "name_four='Hello, TECH I.S. Student'\n",
        "print(name_four)"
      ]
    },
    {
      "cell_type": "code",
      "source": [
        "first_name= 'Mawuli'\n",
        "last_name='Bossiade'\n",
        "print(first_name)\n",
        "print(last_name)"
      ],
      "metadata": {
        "colab": {
          "base_uri": "https://localhost:8080/"
        },
        "id": "Jt29mHeF11qV",
        "outputId": "a695bc0c-556a-475a-fedf-46f6c103687e"
      },
      "execution_count": 2,
      "outputs": [
        {
          "output_type": "stream",
          "name": "stdout",
          "text": [
            "Mawuli\n",
            "Bossiade\n"
          ]
        }
      ]
    },
    {
      "cell_type": "code",
      "source": [
        "s='yello'\n",
        "s=s[0:len(s)]+'w'\n",
        "print(s)"
      ],
      "metadata": {
        "id": "rf-yt-yw41jU",
        "colab": {
          "base_uri": "https://localhost:8080/"
        },
        "outputId": "100b2089-d746-4cdd-c416-a8a43ec94340"
      },
      "execution_count": 10,
      "outputs": [
        {
          "output_type": "stream",
          "name": "stdout",
          "text": [
            "yellow\n"
          ]
        }
      ]
    },
    {
      "cell_type": "code",
      "source": [
        "first_name='Mawuli'\n",
        "last_name='Bossiade'\n",
        "full_name=first_name+\"\"+last_name\n",
        "print(full_name)"
      ],
      "metadata": {
        "colab": {
          "base_uri": "https://localhost:8080/"
        },
        "id": "fewYJMhVYPz3",
        "outputId": "a9e296ce-1510-494c-b88b-e8ad3828d549"
      },
      "execution_count": 11,
      "outputs": [
        {
          "output_type": "stream",
          "name": "stdout",
          "text": [
            "MawuliBossiade\n"
          ]
        }
      ]
    },
    {
      "cell_type": "code",
      "source": [
        "name=\"hayato\"\n",
        "print(name)\n",
        "name_thrice=name*3\n",
        "print(name_thrice)"
      ],
      "metadata": {
        "colab": {
          "base_uri": "https://localhost:8080/"
        },
        "id": "AvDi8mljY_39",
        "outputId": "50d579b0-e8b0-41d1-9a35-bced0feaa849"
      },
      "execution_count": 13,
      "outputs": [
        {
          "output_type": "stream",
          "name": "stdout",
          "text": [
            "hayato\n",
            "hayatohayatohayato\n"
          ]
        }
      ]
    },
    {
      "cell_type": "code",
      "source": [
        "first_name='Mawuli'\n",
        "name_six=first_name*6\n",
        "print(name_six)"
      ],
      "metadata": {
        "colab": {
          "base_uri": "https://localhost:8080/"
        },
        "id": "JbrUaWXNZe_8",
        "outputId": "17376470-8e97-4a40-d951-cbea2603f560"
      },
      "execution_count": 15,
      "outputs": [
        {
          "output_type": "stream",
          "name": "stdout",
          "text": [
            "MawuliMawuliMawuliMawuliMawuliMawuli\n"
          ]
        }
      ]
    },
    {
      "cell_type": "code",
      "source": [
        "name=\"TECH I.S.\"\n",
        "len(name)"
      ],
      "metadata": {
        "colab": {
          "base_uri": "https://localhost:8080/"
        },
        "id": "etoF1dE8aE8t",
        "outputId": "0ae55fd2-7e31-447c-c007-21d44abd3109"
      },
      "execution_count": 16,
      "outputs": [
        {
          "output_type": "execute_result",
          "data": {
            "text/plain": [
              "9"
            ]
          },
          "metadata": {},
          "execution_count": 16
        }
      ]
    },
    {
      "cell_type": "code",
      "source": [
        "s='abc'\n",
        "print(s[0])\n",
        "print(s[1])\n",
        "print(s[-1])"
      ],
      "metadata": {
        "colab": {
          "base_uri": "https://localhost:8080/"
        },
        "id": "BnQdT1IJa9Jl",
        "outputId": "993a3792-6d96-4bce-be87-a97e840100e6"
      },
      "execution_count": 20,
      "outputs": [
        {
          "output_type": "stream",
          "name": "stdout",
          "text": [
            "a\n",
            "b\n",
            "c\n"
          ]
        }
      ]
    },
    {
      "cell_type": "code",
      "source": [
        "v=\"this is one sentence!\"\n",
        "print(v[8])\n"
      ],
      "metadata": {
        "colab": {
          "base_uri": "https://localhost:8080/"
        },
        "id": "iz0fOCPDgRDY",
        "outputId": "b5b6b134-d8d0-4968-c9dc-af95838d7ccb"
      },
      "execution_count": 22,
      "outputs": [
        {
          "output_type": "stream",
          "name": "stdout",
          "text": [
            "o\n"
          ]
        }
      ]
    },
    {
      "cell_type": "code",
      "source": [
        "s='abcdefgh'\n",
        "print(s[3:6])\n",
        "print(s[3:6:1])\n",
        "print(s[0:3])\n",
        "print(s[3:6:2])"
      ],
      "metadata": {
        "colab": {
          "base_uri": "https://localhost:8080/"
        },
        "id": "prCwCE2fg8G3",
        "outputId": "ac9ef18a-272b-47db-a55c-6b09b0e09893"
      },
      "execution_count": 26,
      "outputs": [
        {
          "output_type": "stream",
          "name": "stdout",
          "text": [
            "def\n",
            "def\n",
            "abc\n",
            "df\n"
          ]
        }
      ]
    },
    {
      "cell_type": "code",
      "source": [
        "v='this is one sentence'\n",
        "print(v[8:11])"
      ],
      "metadata": {
        "colab": {
          "base_uri": "https://localhost:8080/"
        },
        "id": "zMTLQ0k-lbzd",
        "outputId": "9e146d0b-769c-40d4-e3db-80ea9782a371"
      },
      "execution_count": 27,
      "outputs": [
        {
          "output_type": "stream",
          "name": "stdout",
          "text": [
            "one\n"
          ]
        }
      ]
    },
    {
      "cell_type": "code",
      "source": [
        "new_list=[3,7,20,'@','TECH I.S.','makes learning fun!']\n",
        "print(new_list)\n",
        "print(new_list[0])\n",
        "print(new_list[4])\n",
        "print(new_list[-5])"
      ],
      "metadata": {
        "colab": {
          "base_uri": "https://localhost:8080/"
        },
        "id": "HbRDweF6nkOi",
        "outputId": "221f20ee-6cf9-4970-94be-43120cc4f761"
      },
      "execution_count": 34,
      "outputs": [
        {
          "output_type": "stream",
          "name": "stdout",
          "text": [
            "[3, 7, 20, '@', 'TECH I.S.', 'makes learning fun!']\n",
            "3\n",
            "TECH I.S.\n",
            "7\n"
          ]
        }
      ]
    },
    {
      "cell_type": "code",
      "source": [
        "groceries=['banana','milk','bread','peanut','orange','water',1,2]\n",
        "print(groceries)\n",
        "print(groceries[0])\n",
        "groceries.append(\"almond\")\n",
        "print(groceries)"
      ],
      "metadata": {
        "colab": {
          "base_uri": "https://localhost:8080/"
        },
        "id": "L5_0Gz6ooRYA",
        "outputId": "1163891c-d566-483d-aae3-3d7d7e0f5f57"
      },
      "execution_count": 45,
      "outputs": [
        {
          "output_type": "stream",
          "name": "stdout",
          "text": [
            "['banana', 'milk', 'bread', 'peanut', 'orange', 'water', 1, 2]\n",
            "banana\n",
            "['banana', 'milk', 'bread', 'peanut', 'orange', 'water', 1, 2, 'almond']\n"
          ]
        }
      ]
    },
    {
      "cell_type": "code",
      "source": [
        "nested_list=[\n",
        "             [1,2,3],\n",
        "             [\"a\",\"b\",\"c\"],\n",
        "             [True,False,7],\n",
        "]\n",
        "print(nested_list)"
      ],
      "metadata": {
        "colab": {
          "base_uri": "https://localhost:8080/"
        },
        "id": "laeCL3yvqn6u",
        "outputId": "c66c0180-dd25-4e0b-9f10-5242327d8e80"
      },
      "execution_count": 38,
      "outputs": [
        {
          "output_type": "stream",
          "name": "stdout",
          "text": [
            "[[1, 2, 3], ['a', 'b', 'c'], [True, False, 7]]\n"
          ]
        }
      ]
    },
    {
      "cell_type": "code",
      "source": [
        "favouritenested_list=[\n",
        "                      ['yellow','red','blue','dark'],\n",
        "                      ['bread','chocolate','beef'],\n",
        "                      ['wizkid','olamide','burna boy']\n",
        "\n",
        "]\n",
        "print(favouritenested_list)"
      ],
      "metadata": {
        "colab": {
          "base_uri": "https://localhost:8080/"
        },
        "id": "r8EvYbUTs_4S",
        "outputId": "3263361f-34a8-4922-eca8-b2d6689eb75f"
      },
      "execution_count": 39,
      "outputs": [
        {
          "output_type": "stream",
          "name": "stdout",
          "text": [
            "[['yellow', 'red', 'blue', 'dark'], ['bread', 'chocolate', 'beef'], ['wizkid', 'olamide', 'burna boy']]\n"
          ]
        }
      ]
    },
    {
      "cell_type": "code",
      "source": [
        "new_list=[3,7,20,'@','TECH I.S.','makes learning fun']\n",
        "new_list[2]='one'\n",
        "print(new_list)\n",
        "new_list.append('wooho!')\n",
        "print(new_list)\n",
        "new_list.extend([\"let's\",\"do\",\"this\",\"!\"])\n",
        "print(new_list)\n",
        "new_list.insert(3,'chocolate')\n",
        "print(new_list)"
      ],
      "metadata": {
        "colab": {
          "base_uri": "https://localhost:8080/"
        },
        "id": "raNzTG07pa7i",
        "outputId": "cdfe9d8b-0aaa-4843-c1f6-4d67a0f4122f"
      },
      "execution_count": 48,
      "outputs": [
        {
          "output_type": "stream",
          "name": "stdout",
          "text": [
            "[3, 7, 'one', '@', 'TECH I.S.', 'makes learning fun']\n",
            "[3, 7, 'one', '@', 'TECH I.S.', 'makes learning fun', 'wooho!']\n",
            "[3, 7, 'one', '@', 'TECH I.S.', 'makes learning fun', 'wooho!', \"let's\", 'do', 'this', '!']\n",
            "[3, 7, 'one', 'chocolate', '@', 'TECH I.S.', 'makes learning fun', 'wooho!', \"let's\", 'do', 'this', '!']\n"
          ]
        }
      ]
    },
    {
      "cell_type": "code",
      "source": [
        "new_list=[3,7,20,'@','TECH I.S.','makes learning fun']\n",
        "new_list.remove(20)\n",
        "print(new_list)"
      ],
      "metadata": {
        "colab": {
          "base_uri": "https://localhost:8080/"
        },
        "id": "il0a4AH71yOo",
        "outputId": "c81d8c23-be8e-44e7-d166-1aecd62e9d41"
      },
      "execution_count": 49,
      "outputs": [
        {
          "output_type": "stream",
          "name": "stdout",
          "text": [
            "[3, 7, '@', 'TECH I.S.', 'makes learning fun']\n"
          ]
        }
      ]
    },
    {
      "cell_type": "code",
      "source": [
        "groceries=['banana','almond','peanut','water']\n",
        "groceries.remove('almond')\n",
        "print(groceries)"
      ],
      "metadata": {
        "colab": {
          "base_uri": "https://localhost:8080/"
        },
        "id": "1p9QfDil2uiX",
        "outputId": "f1c21cb1-b36c-4293-d478-68ec0bc4dbf6"
      },
      "execution_count": 50,
      "outputs": [
        {
          "output_type": "stream",
          "name": "stdout",
          "text": [
            "['banana', 'peanut', 'water']\n"
          ]
        }
      ]
    }
  ]
}